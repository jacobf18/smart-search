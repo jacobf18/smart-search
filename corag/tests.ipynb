{
 "cells": [
  {
   "cell_type": "code",
   "execution_count": 1,
   "metadata": {},
   "outputs": [],
   "source": [
    "import torch"
   ]
  },
  {
   "cell_type": "code",
   "execution_count": 2,
   "metadata": {},
   "outputs": [],
   "source": [
    "import os\n",
    "import copy\n",
    "import json\n",
    "import threading\n",
    "import logging\n",
    "\n",
    "from transformers import HfArgumentParser, AutoTokenizer, PreTrainedTokenizerFast\n",
    "from concurrent.futures import ThreadPoolExecutor\n",
    "from typing import List, Dict\n",
    "from datasets import Dataset, load_dataset"
   ]
  },
  {
   "cell_type": "code",
   "execution_count": 3,
   "metadata": {},
   "outputs": [],
   "source": [
    "import sys\n",
    "sys.path.append('smart-search/corag/src/')"
   ]
  },
  {
   "cell_type": "code",
   "execution_count": 5,
   "metadata": {},
   "outputs": [],
   "source": [
    "from config import Arguments\n",
    "from logger_config import logger\n",
    "from data_utils import log_random_samples, load_corpus, format_documents_for_final_answer\n",
    "from vllm_client_local import VllmClient, get_vllm_model_id\n",
    "from utils import save_json_to_file, AtomicCounter\n",
    "from agent import CoRagAgent, RagPath\n",
    "from inference.metrics import compute_metrics_dict"
   ]
  },
  {
   "cell_type": "code",
   "execution_count": 4,
   "metadata": {},
   "outputs": [],
   "source": [
    "vllm_ip = \"10.197.17.39\"\n",
    "e5_ip = \"10.197.17.38\""
   ]
  },
  {
   "cell_type": "code",
   "execution_count": 6,
   "metadata": {},
   "outputs": [
    {
     "name": "stderr",
     "output_type": "stream",
     "text": [
      "[2025-04-18 13:58:21,753 INFO] HTTP Request: GET http://10.197.17.39:8000/v1/models \"HTTP/1.1 200 OK\"\n"
     ]
    },
    {
     "data": {
      "application/vnd.jupyter.widget-view+json": {
       "model_id": "dee645a364d24f7daa34d34fb1f7d215",
       "version_major": 2,
       "version_minor": 0
      },
      "text/plain": [
       "Resolving data files:   0%|          | 0/37 [00:00<?, ?it/s]"
      ]
     },
     "metadata": {},
     "output_type": "display_data"
    },
    {
     "data": {
      "application/vnd.jupyter.widget-view+json": {
       "model_id": "afab7feec61140fc974bc555f3829b2d",
       "version_major": 2,
       "version_minor": 0
      },
      "text/plain": [
       "Resolving data files:   0%|          | 0/37 [00:00<?, ?it/s]"
      ]
     },
     "metadata": {},
     "output_type": "display_data"
    },
    {
     "data": {
      "application/vnd.jupyter.widget-view+json": {
       "model_id": "ca9133b18b8c45d4a5b2ad1ad965f996",
       "version_major": 2,
       "version_minor": 0
      },
      "text/plain": [
       "Loading dataset shards:   0%|          | 0/37 [00:00<?, ?it/s]"
      ]
     },
     "metadata": {},
     "output_type": "display_data"
    },
    {
     "name": "stderr",
     "output_type": "stream",
     "text": [
      "[2025-04-18 13:58:24,555 INFO] Loaded 35678076 passages from corag/kilt-corpus\n"
     ]
    }
   ],
   "source": [
    "vllm_client: VllmClient = VllmClient(get_vllm_model_id(host=vllm_ip), host=vllm_ip)\n",
    "corpus: Dataset = load_corpus()"
   ]
  },
  {
   "cell_type": "code",
   "execution_count": 9,
   "metadata": {},
   "outputs": [
    {
     "name": "stderr",
     "output_type": "stream",
     "text": [
      "[2025-04-07 22:49:30,482 INFO] HTTP Request: GET http://10.197.17.39:8000/v1/models \"HTTP/1.1 200 OK\"\n"
     ]
    }
   ],
   "source": [
    "corag_agent: CoRagAgent = CoRagAgent(vllm_client=vllm_client, corpus=corpus, e5_ip=e5_ip, vllm_ip=vllm_ip)"
   ]
  },
  {
   "cell_type": "code",
   "execution_count": 69,
   "metadata": {},
   "outputs": [],
   "source": [
    "import heapq\n",
    "import math\n",
    "from copy import deepcopy\n",
    "from typing import Optional, List, Dict\n",
    "\n",
    "from agent.agent_utils import RagPath\n",
    "from openai.types.chat import ChatCompletion\n",
    "from prompts import get_generate_subquery_prompt, get_generate_intermediate_answer_prompt, get_generate_final_answer_prompt\n",
    "\n",
    "from agent.corag_agent import CoRagAgent\n",
    "from agent.corag_agent import _normalize_subquery\n",
    "\n",
    "from vllm_client_local import VllmClient\n",
    "from datasets import Dataset\n",
    "from sentence_transformers import SentenceTransformer\n",
    "from sklearn.metrics.pairwise import cosine_similarity"
   ]
  },
  {
   "cell_type": "code",
   "execution_count": 88,
   "metadata": {},
   "outputs": [],
   "source": [
    "class TreeNode:\n",
    "    def __init__(self, path: RagPath, logprob: float, parent: Optional[\"TreeNode\"] = None):\n",
    "        self.path = deepcopy(path)\n",
    "        self.logprob = logprob  # cumulative log probability of subqueries\n",
    "        self.depth = len(path.past_subqueries)\n",
    "        self.parent = parent\n",
    "        self.children = []\n",
    "        self.levin_cost = 0.0\n",
    "\n",
    "    def __lt__(self, other):\n",
    "        return self.levin_cost < other.levin_cost\n",
    "    \n",
    "class CoRagAgentWithPHS(CoRagAgent):\n",
    "    \n",
    "    def __init__(self, vllm_client: VllmClient, corpus: Dataset, e5_ip: str, vllm_ip: str, \n",
    "                 confidence_threshold: float = 0.5):\n",
    "        \"\"\"Initializes the CoRagAgentWithPHS class.\n",
    "        This class is a specialized version of the CoRagAgent that implements a tree search algorithm\n",
    "        called 'Policy-guided heuristic search' (PHS) to quickly find a good path for answering a query.\n",
    "\n",
    "        Args:\n",
    "            vllm_client (VllmClient): VLLM client for answering queries.\n",
    "            corpus (Dataset): Dataset containing the documents to be searched.\n",
    "            e5_ip (str): IP address of the E5 server.\n",
    "            vllm_ip (str): IP address of the VLLM server.\n",
    "            confidence_threshold (float, optional): Confidence threshold to determine if completed. Defaults to 0.5.\n",
    "        \"\"\"\n",
    "        super().__init__(vllm_client, corpus, e5_ip, vllm_ip)\n",
    "        self.confidence_threshold = confidence_threshold\n",
    "        self.embedding_model = SentenceTransformer('sentence-transformers/all-MiniLM-L6-v2')\n",
    "        self.similarity_threshold = 0.95\n",
    "        \n",
    "    def filter_similar_subqueries(self, choices):\n",
    "        filtered_indices = []\n",
    "        subqueries = [_normalize_subquery(choice.message.content) for choice in choices]\n",
    "        embeddings = self.embedding_model.encode(subqueries, show_progress_bar=False)\n",
    "        \n",
    "        # cluster the embeddings by cosine similarity of the embeddings\n",
    "        for i in range(len(embeddings)):\n",
    "            is_similar = False\n",
    "            for j in range(i):\n",
    "                sim = cosine_similarity(\n",
    "                    embeddings[i].reshape(1,-1), \n",
    "                    embeddings[j].reshape(1,-1)\n",
    "                    # dim=0\n",
    "                ).item()\n",
    "                if sim > self.similarity_threshold:\n",
    "                    is_similar = True\n",
    "                    break\n",
    "            if not is_similar:\n",
    "                filtered_indices.append(i)\n",
    "        return [choices[i] for i in filtered_indices]\n",
    "\n",
    "    def tree_search(\n",
    "        self, query: str, \n",
    "        task_desc: str,\n",
    "        max_path_length: int = 3,\n",
    "        max_message_length: int = 4096,\n",
    "        temperature: float = 0.7,\n",
    "        expand_size: int = 4,\n",
    "        max_tree_size = 100,\n",
    "        **kwargs\n",
    "    ) -> RagPath:\n",
    "        root_path = RagPath(query=query, past_subqueries=[query], past_subanswers=[], past_doc_ids=[])\n",
    "        root_node = TreeNode(path=root_path, logprob=0.0)\n",
    "        all_nodes = []\n",
    "        open_list = []\n",
    "        heapq.heappush(open_list, root_node)\n",
    "        explored_num = 0\n",
    "        while open_list and explored_num < max_tree_size:\n",
    "            print(f\"Explored nodes: {explored_num}, Open list size: {len(open_list)}\")\n",
    "            explored_num += 1\n",
    "            node = heapq.heappop(open_list)\n",
    "            current_path = node.path\n",
    "            \n",
    "            subquery = node.path.past_subqueries[-1]\n",
    "            subanswer, doc_ids = self._get_subanswer_and_doc_ids(\n",
    "                subquery=subquery, max_message_length=max_message_length\n",
    "            )\n",
    "            \n",
    "            current_path.past_subanswers.append(subanswer)\n",
    "            current_path.past_doc_ids.append(doc_ids)\n",
    "            # now the subanswers and subqueries are the same length\n",
    "            \n",
    "            # if self._is_solution(current_path, task_desc, max_message_length):\n",
    "            #     return current_path\n",
    "\n",
    "            messages = get_generate_subquery_prompt(\n",
    "                query=query,\n",
    "                past_subqueries=current_path.past_subqueries,\n",
    "                past_subanswers=current_path.past_subanswers,\n",
    "                task_desc=task_desc\n",
    "            )\n",
    "            self._truncate_long_messages(messages, max_length=max_message_length)\n",
    "\n",
    "            completion: ChatCompletion = self.vllm_client.call_chat(\n",
    "                messages=messages,\n",
    "                return_str=False,\n",
    "                n=expand_size,\n",
    "                # extra_body={\"prompt_logprobs\": 1},\n",
    "                logprobs=True,\n",
    "                temperature=temperature,\n",
    "                **kwargs\n",
    "            )\n",
    "            \n",
    "            filtered_choices = self.filter_similar_subqueries(completion.choices)\n",
    "\n",
    "            for choice in filtered_choices:\n",
    "                subquery = _normalize_subquery(choice.message.content)\n",
    "                if subquery in current_path.past_subqueries:\n",
    "                    continue\n",
    "                \n",
    "                token_logprobs = [c.logprob for c in choice.logprobs.content]\n",
    "                \n",
    "                sub_logprob = sum(token_logprobs) / max(len(token_logprobs), 1)\n",
    "                \n",
    "                new_path = RagPath(\n",
    "                    query=query,\n",
    "                    past_subqueries=current_path.past_subqueries + [subquery],\n",
    "                    past_subanswers=current_path.past_subanswers,\n",
    "                    past_doc_ids=current_path.past_doc_ids\n",
    "                )\n",
    "\n",
    "                running_cost = len(new_path.past_subqueries) # number of nodes (g(n) in the paper)\n",
    "                policy_logprob = node.logprob + sub_logprob # cumulative log probability (log(pi(n)) in the paper)\n",
    "                # heuristic_cost = self._estimate_heuristic_llm(new_path, task_desc, max_message_length, **kwargs) # h(n) in the paper\n",
    "                heuristic_cost = max_path_length - len(new_path.past_subqueries) # h(n) in the paper\n",
    "                levin_cost = math.log(running_cost + heuristic_cost + 1e-5) - policy_logprob\n",
    "\n",
    "                new_node = TreeNode(path=new_path, logprob=policy_logprob, parent=node)\n",
    "                node.children.append(new_node)\n",
    "                all_nodes.append(new_node)\n",
    "                new_node.levin_cost = levin_cost\n",
    "                heapq.heappush(open_list, new_node)\n",
    "                \n",
    "        # Loop over all leaf nodes and choose the best one according to _eval_single_path\n",
    "        best_node = None\n",
    "        best_score = float('inf')\n",
    "        for node in all_nodes:\n",
    "            if len(node.children) > 0:\n",
    "                continue\n",
    "            path = node.path\n",
    "            \n",
    "            if len(path.past_subqueries) > len(path.past_subanswers):\n",
    "                # If the path is not complete, complete it\n",
    "                subanswer, doc_ids = self._get_subanswer_and_doc_ids(\n",
    "                    subquery=path.past_subqueries[-1], max_message_length=max_message_length\n",
    "                )\n",
    "                \n",
    "                path.past_subanswers.append(subanswer)\n",
    "                path.past_doc_ids.append(doc_ids)\n",
    "            \n",
    "            score = self._eval_single_path(path, max_message_length=max_message_length)\n",
    "            if score < best_score:\n",
    "                best_score = score\n",
    "                best_node = node\n",
    "        if best_node is not None:\n",
    "            return best_node.path, root_node\n",
    "        # If no solution was found, return the root path\n",
    "        # This is a fallback and should not happen in normal circumstances.\n",
    "        # logger.warning(f\"Did not find a solution within {max_tree_size} nodes. Returning the root path.\")\n",
    "        # This should never happen, but just in case\n",
    "        return self.root_path\n",
    "\n",
    "    def _is_solution(self, path: RagPath, task_desc: str, max_message_length: int) -> bool:\n",
    "        log_prob = self._eval_single_path(\n",
    "            path,\n",
    "            max_message_length=max_message_length\n",
    "        )\n",
    "        # This is the log probability of the string 'No relevant information found'\n",
    "        # So, if the log probability of the path is less than this, we consider it a solution.\n",
    "        # This is a heuristic, and the threshold can be adjusted based on the model's behavior.\n",
    "        return log_prob < math.log(self.confidence_threshold)\n",
    "\n",
    "    def _estimate_heuristic_llm(self, path: RagPath, task_desc: str, max_message_length: int, **kwargs) -> int:\n",
    "        \"\"\"Heuristic function to estimate the number of remaining subqueries.\n",
    "        This function uses the LLM to predict how many subqueries are needed to fully answer the original query.\n",
    "\n",
    "        Args:\n",
    "            path (RagPath): RagPath to the current node in the search tree\n",
    "            task_desc (str): Task description\n",
    "            max_message_length (int): Maximum message length for the LLM\n",
    "            **kwargs: Additional arguments for the LLM call\n",
    "\n",
    "        Returns:\n",
    "            int: Estimated number of remaining subqueries\n",
    "        \"\"\"\n",
    "        # Ask the LLM how many subqueries it expects are remaining\n",
    "        messages: List[Dict] = get_generate_intermediate_answer_prompt(\n",
    "            subquery=path.query,\n",
    "            documents=[f'Q: {q}\\nA: {a}' for q, a in zip(path.past_subqueries, path.past_subanswers)],\n",
    "        )\n",
    "        # messages.append({'role': 'user', 'content': 'How many more subqueries are needed to fully answer the original query. Respond with a single integer.'})\n",
    "        messages.append({'role': 'user', \n",
    "                         'content': f'What additional subqueries should be asked to fully answer the original query: \"{path.query}\". Separate subqueries with question marks \"?\".'})\n",
    "        self._truncate_long_messages(messages, max_length=max_message_length)\n",
    "\n",
    "        response: ChatCompletion = self.vllm_client.call_chat(\n",
    "            messages=messages,\n",
    "            return_str=False,\n",
    "            # max_tokens=5,\n",
    "            **kwargs\n",
    "        )\n",
    "\n",
    "        text = response.choices[0].message.content.strip()\n",
    "        \n",
    "        est_remaining = max(1,len(text.split(\"?\")))\n",
    "\n",
    "        # response: ChatCompletion = self.vllm_client.call_chat(\n",
    "        #     messages=messages,\n",
    "        #     return_str=False,\n",
    "        #     max_tokens=5,\n",
    "        #     **kwargs\n",
    "        # )\n",
    "\n",
    "        # # idk how to ensure its an int, this was an attempt\n",
    "        # try:\n",
    "        #     est_remaining = int(text.split()[0])\n",
    "        # except Exception:\n",
    "        #     est_remaining = max(1, 3 - len(path.past_subqueries))  # fallback\n",
    "\n",
    "        return max(0, est_remaining)"
   ]
  },
  {
   "cell_type": "code",
   "execution_count": 9,
   "metadata": {},
   "outputs": [
    {
     "name": "stderr",
     "output_type": "stream",
     "text": [
      "[2025-04-18 13:58:38,822 INFO] HTTP Request: GET http://10.197.17.39:8000/v1/models \"HTTP/1.1 200 OK\"\n"
     ]
    }
   ],
   "source": [
    "tokenizer: PreTrainedTokenizerFast = AutoTokenizer.from_pretrained(get_vllm_model_id(host=vllm_ip))\n",
    "tokenizer_lock: threading.Lock = threading.Lock()\n",
    "processed_cnt: AtomicCounter = AtomicCounter()\n",
    "total_cnt: int = 0"
   ]
  },
  {
   "cell_type": "code",
   "execution_count": 10,
   "metadata": {},
   "outputs": [],
   "source": [
    "ds: Dataset = load_dataset('corag/multihopqa', \"hotpotqa\", split=\"validation\")\n",
    "ds = ds.remove_columns([name for name in ['subqueries', 'subanswers', 'predictions'] if name in ds.column_names])\n",
    "ds = ds.add_column('task_desc', ['answer multi-hop questions' for _ in range(len(ds))])"
   ]
  },
  {
   "cell_type": "code",
   "execution_count": 11,
   "metadata": {},
   "outputs": [],
   "source": [
    "ds = ds.select(range(16))\n",
    "args = Arguments()\n",
    "ex = ds[0]"
   ]
  },
  {
   "cell_type": "code",
   "execution_count": 81,
   "metadata": {},
   "outputs": [
    {
     "data": {
      "text/plain": [
       "1.0"
      ]
     },
     "execution_count": 81,
     "metadata": {},
     "output_type": "execute_result"
    }
   ],
   "source": [
    "cosine_similarity(\n",
    "    [[1, 2, 3]],\n",
    "    [[1, 2, 3]]\n",
    ").item()"
   ]
  },
  {
   "cell_type": "code",
   "execution_count": 87,
   "metadata": {},
   "outputs": [
    {
     "data": {
      "text/plain": [
       "[\"What was Ed Wood's birthplace?\",\n",
       " 'Was Ed Wood born in the United States?',\n",
       " 'Was Ed Wood American?']"
      ]
     },
     "execution_count": 87,
     "metadata": {},
     "output_type": "execute_result"
    }
   ],
   "source": [
    "def filter_similar_subqueries(subqueries):\n",
    "    filtered_indices = []\n",
    "    # subqueries = [_normalize_subquery(choice.message.content) for choice in choices]\n",
    "    embeddings = embedding_model.encode(subqueries, show_progress_bar=False)\n",
    "    # cluster the embeddings by cosine similarity of the embeddings\n",
    "    for i in range(len(embeddings)):\n",
    "        is_similar = False\n",
    "        for j in range(i):\n",
    "            sim = cosine_similarity(\n",
    "                embeddings[i].reshape(1,-1), \n",
    "                embeddings[j].reshape(1,-1)\n",
    "                # dim=0\n",
    "            ).item()\n",
    "            if sim > 0.95:\n",
    "                is_similar = True\n",
    "                break\n",
    "        if not is_similar:\n",
    "            filtered_indices.append(i)\n",
    "    return [subqueries[i] for i in filtered_indices]\n",
    "\n",
    "filter_similar_subqueries(subqueries)"
   ]
  },
  {
   "cell_type": "code",
   "execution_count": 89,
   "metadata": {},
   "outputs": [
    {
     "name": "stderr",
     "output_type": "stream",
     "text": [
      "[2025-04-18 14:49:08,856 INFO] HTTP Request: GET http://10.197.17.39:8000/v1/models \"HTTP/1.1 200 OK\"\n"
     ]
    },
    {
     "name": "stderr",
     "output_type": "stream",
     "text": [
      "[2025-04-18 14:49:09,500 INFO] Use pytorch device_name: cpu\n",
      "[2025-04-18 14:49:09,501 INFO] Load pretrained SentenceTransformer: sentence-transformers/all-MiniLM-L6-v2\n"
     ]
    },
    {
     "name": "stdout",
     "output_type": "stream",
     "text": [
      "Explored nodes: 0, Open list size: 1\n"
     ]
    },
    {
     "name": "stderr",
     "output_type": "stream",
     "text": [
      "[2025-04-18 14:49:10,682 INFO] HTTP Request: POST http://10.197.17.39:8000/v1/chat/completions \"HTTP/1.1 200 OK\"\n",
      "[2025-04-18 14:49:10,878 INFO] HTTP Request: POST http://10.197.17.39:8000/v1/chat/completions \"HTTP/1.1 200 OK\"\n"
     ]
    },
    {
     "name": "stdout",
     "output_type": "stream",
     "text": [
      "Explored nodes: 1, Open list size: 2\n"
     ]
    },
    {
     "name": "stderr",
     "output_type": "stream",
     "text": [
      "[2025-04-18 14:49:11,152 INFO] HTTP Request: POST http://10.197.17.39:8000/v1/chat/completions \"HTTP/1.1 200 OK\"\n",
      "[2025-04-18 14:49:11,320 INFO] HTTP Request: POST http://10.197.17.39:8000/v1/chat/completions \"HTTP/1.1 200 OK\"\n",
      "[2025-04-18 14:49:11,521 INFO] HTTP Request: POST http://10.197.17.39:8000/v1/chat/completions \"HTTP/1.1 200 OK\"\n"
     ]
    },
    {
     "name": "stdout",
     "output_type": "stream",
     "text": [
      "Explored nodes: 2, Open list size: 2\n"
     ]
    },
    {
     "name": "stderr",
     "output_type": "stream",
     "text": [
      "[2025-04-18 14:49:11,688 INFO] HTTP Request: POST http://10.197.17.39:8000/v1/chat/completions \"HTTP/1.1 200 OK\"\n",
      "[2025-04-18 14:49:11,897 INFO] HTTP Request: POST http://10.197.17.39:8000/v1/chat/completions \"HTTP/1.1 200 OK\"\n"
     ]
    },
    {
     "name": "stdout",
     "output_type": "stream",
     "text": [
      "Explored nodes: 3, Open list size: 2\n"
     ]
    },
    {
     "name": "stderr",
     "output_type": "stream",
     "text": [
      "[2025-04-18 14:49:12,062 INFO] HTTP Request: POST http://10.197.17.39:8000/v1/chat/completions \"HTTP/1.1 200 OK\"\n"
     ]
    },
    {
     "name": "stdout",
     "output_type": "stream",
     "text": [
      "Explored nodes: 4, Open list size: 4\n"
     ]
    },
    {
     "name": "stderr",
     "output_type": "stream",
     "text": [
      "[2025-04-18 14:49:12,445 INFO] HTTP Request: POST http://10.197.17.39:8000/v1/chat/completions \"HTTP/1.1 200 OK\"\n",
      "[2025-04-18 14:49:12,659 INFO] HTTP Request: POST http://10.197.17.39:8000/v1/chat/completions \"HTTP/1.1 200 OK\"\n"
     ]
    },
    {
     "name": "stdout",
     "output_type": "stream",
     "text": [
      "Explored nodes: 5, Open list size: 4\n"
     ]
    },
    {
     "name": "stderr",
     "output_type": "stream",
     "text": [
      "[2025-04-18 14:49:12,907 INFO] HTTP Request: POST http://10.197.17.39:8000/v1/chat/completions \"HTTP/1.1 200 OK\"\n",
      "[2025-04-18 14:49:13,077 INFO] HTTP Request: POST http://10.197.17.39:8000/v1/chat/completions \"HTTP/1.1 200 OK\"\n"
     ]
    },
    {
     "name": "stdout",
     "output_type": "stream",
     "text": [
      "Explored nodes: 6, Open list size: 3\n"
     ]
    },
    {
     "name": "stderr",
     "output_type": "stream",
     "text": [
      "[2025-04-18 14:49:13,326 INFO] HTTP Request: POST http://10.197.17.39:8000/v1/chat/completions \"HTTP/1.1 200 OK\"\n",
      "[2025-04-18 14:49:13,543 INFO] HTTP Request: POST http://10.197.17.39:8000/v1/chat/completions \"HTTP/1.1 200 OK\"\n",
      "[2025-04-18 14:49:13,734 INFO] HTTP Request: POST http://10.197.17.39:8000/v1/chat/completions \"HTTP/1.1 200 OK\"\n"
     ]
    },
    {
     "name": "stdout",
     "output_type": "stream",
     "text": [
      "Explored nodes: 7, Open list size: 4\n"
     ]
    },
    {
     "name": "stderr",
     "output_type": "stream",
     "text": [
      "[2025-04-18 14:49:13,931 INFO] HTTP Request: POST http://10.197.17.39:8000/v1/chat/completions \"HTTP/1.1 200 OK\"\n"
     ]
    },
    {
     "name": "stdout",
     "output_type": "stream",
     "text": [
      "Explored nodes: 8, Open list size: 6\n"
     ]
    },
    {
     "name": "stderr",
     "output_type": "stream",
     "text": [
      "[2025-04-18 14:49:14,206 INFO] HTTP Request: POST http://10.197.17.39:8000/v1/chat/completions \"HTTP/1.1 200 OK\"\n",
      "[2025-04-18 14:49:14,421 INFO] HTTP Request: POST http://10.197.17.39:8000/v1/chat/completions \"HTTP/1.1 200 OK\"\n"
     ]
    },
    {
     "name": "stdout",
     "output_type": "stream",
     "text": [
      "Explored nodes: 9, Open list size: 7\n"
     ]
    },
    {
     "name": "stderr",
     "output_type": "stream",
     "text": [
      "[2025-04-18 14:49:14,703 INFO] HTTP Request: POST http://10.197.17.39:8000/v1/chat/completions \"HTTP/1.1 200 OK\"\n",
      "[2025-04-18 14:49:14,949 INFO] HTTP Request: POST http://10.197.17.39:8000/v1/chat/completions \"HTTP/1.1 200 OK\"\n",
      "[2025-04-18 14:49:15,138 INFO] HTTP Request: POST http://10.197.17.39:8000/v1/chat/completions \"HTTP/1.1 200 OK\"\n",
      "[2025-04-18 14:49:15,175 INFO] HTTP Request: POST http://10.197.17.39:8000/v1/chat/completions \"HTTP/1.1 200 OK\"\n",
      "[2025-04-18 14:49:15,213 INFO] HTTP Request: POST http://10.197.17.39:8000/v1/chat/completions \"HTTP/1.1 200 OK\"\n",
      "[2025-04-18 14:49:15,389 INFO] HTTP Request: POST http://10.197.17.39:8000/v1/chat/completions \"HTTP/1.1 200 OK\"\n",
      "[2025-04-18 14:49:15,426 INFO] HTTP Request: POST http://10.197.17.39:8000/v1/chat/completions \"HTTP/1.1 200 OK\"\n",
      "[2025-04-18 14:49:15,601 INFO] HTTP Request: POST http://10.197.17.39:8000/v1/chat/completions \"HTTP/1.1 200 OK\"\n",
      "[2025-04-18 14:49:15,638 INFO] HTTP Request: POST http://10.197.17.39:8000/v1/chat/completions \"HTTP/1.1 200 OK\"\n",
      "[2025-04-18 14:49:15,826 INFO] HTTP Request: POST http://10.197.17.39:8000/v1/chat/completions \"HTTP/1.1 200 OK\"\n",
      "[2025-04-18 14:49:15,863 INFO] HTTP Request: POST http://10.197.17.39:8000/v1/chat/completions \"HTTP/1.1 200 OK\"\n",
      "[2025-04-18 14:49:16,095 INFO] HTTP Request: POST http://10.197.17.39:8000/v1/chat/completions \"HTTP/1.1 200 OK\"\n",
      "[2025-04-18 14:49:16,134 INFO] HTTP Request: POST http://10.197.17.39:8000/v1/chat/completions \"HTTP/1.1 200 OK\"\n",
      "[2025-04-18 14:49:16,365 INFO] HTTP Request: POST http://10.197.17.39:8000/v1/chat/completions \"HTTP/1.1 200 OK\"\n",
      "[2025-04-18 14:49:16,405 INFO] HTTP Request: POST http://10.197.17.39:8000/v1/chat/completions \"HTTP/1.1 200 OK\"\n",
      "[2025-04-18 14:49:16,662 INFO] HTTP Request: POST http://10.197.17.39:8000/v1/chat/completions \"HTTP/1.1 200 OK\"\n",
      "[2025-04-18 14:49:16,701 INFO] HTTP Request: POST http://10.197.17.39:8000/v1/chat/completions \"HTTP/1.1 200 OK\"\n"
     ]
    }
   ],
   "source": [
    "phs_agent = CoRagAgentWithPHS(\n",
    "    vllm_client=vllm_client,\n",
    "    corpus=corpus,\n",
    "    e5_ip=e5_ip,\n",
    "    vllm_ip=vllm_ip,\n",
    "    confidence_threshold=0.05\n",
    ")\n",
    "\n",
    "path = phs_agent.tree_search(\n",
    "        query=ex['query'], \n",
    "        task_desc=ex['task_desc'],\n",
    "        max_path_length=3,\n",
    "        expand_size=4,\n",
    "        temperature=0.7,\n",
    "        max_tree_size=10\n",
    "    )"
   ]
  },
  {
   "cell_type": "code",
   "execution_count": null,
   "metadata": {},
   "outputs": [
    {
     "name": "stderr",
     "output_type": "stream",
     "text": [
      "[2025-04-07 17:27:01,817 INFO] HTTP Request: POST http://10.197.17.38:8000/v1/chat/completions \"HTTP/1.1 200 OK\"\n",
      "[2025-04-07 17:27:02,093 INFO] HTTP Request: POST http://10.197.17.38:8000/v1/chat/completions \"HTTP/1.1 200 OK\"\n",
      "[2025-04-07 17:27:02,251 INFO] HTTP Request: POST http://10.197.17.38:8000/v1/chat/completions \"HTTP/1.1 200 OK\"\n",
      "[2025-04-07 17:27:02,394 INFO] HTTP Request: POST http://10.197.17.38:8000/v1/chat/completions \"HTTP/1.1 200 OK\"\n",
      "[2025-04-07 17:27:02,719 INFO] HTTP Request: POST http://10.197.17.38:8000/v1/chat/completions \"HTTP/1.1 200 OK\"\n",
      "[2025-04-07 17:27:02,864 INFO] HTTP Request: POST http://10.197.17.38:8000/v1/chat/completions \"HTTP/1.1 200 OK\"\n",
      "[2025-04-07 17:27:03,019 INFO] HTTP Request: POST http://10.197.17.38:8000/v1/chat/completions \"HTTP/1.1 200 OK\"\n",
      "[2025-04-07 17:27:03,175 INFO] HTTP Request: POST http://10.197.17.38:8000/v1/chat/completions \"HTTP/1.1 200 OK\"\n",
      "[2025-04-07 17:27:03,317 INFO] HTTP Request: POST http://10.197.17.38:8000/v1/chat/completions \"HTTP/1.1 200 OK\"\n",
      "[2025-04-07 17:27:03,458 INFO] HTTP Request: POST http://10.197.17.38:8000/v1/chat/completions \"HTTP/1.1 200 OK\"\n",
      "[2025-04-07 17:27:03,614 INFO] HTTP Request: POST http://10.197.17.38:8000/v1/chat/completions \"HTTP/1.1 200 OK\"\n",
      "[2025-04-07 17:27:03,770 INFO] HTTP Request: POST http://10.197.17.38:8000/v1/chat/completions \"HTTP/1.1 200 OK\"\n",
      "[2025-04-07 17:27:03,911 INFO] HTTP Request: POST http://10.197.17.38:8000/v1/chat/completions \"HTTP/1.1 200 OK\"\n",
      "[2025-04-07 17:27:04,053 INFO] HTTP Request: POST http://10.197.17.38:8000/v1/chat/completions \"HTTP/1.1 200 OK\"\n",
      "[2025-04-07 17:27:04,512 INFO] HTTP Request: POST http://10.197.17.38:8000/v1/chat/completions \"HTTP/1.1 200 OK\"\n",
      "[2025-04-07 17:27:04,656 INFO] HTTP Request: POST http://10.197.17.38:8000/v1/chat/completions \"HTTP/1.1 200 OK\"\n",
      "[2025-04-07 17:27:04,798 INFO] HTTP Request: POST http://10.197.17.38:8000/v1/chat/completions \"HTTP/1.1 200 OK\"\n",
      "[2025-04-07 17:27:04,939 INFO] HTTP Request: POST http://10.197.17.38:8000/v1/chat/completions \"HTTP/1.1 200 OK\"\n",
      "[2025-04-07 17:27:05,081 INFO] HTTP Request: POST http://10.197.17.38:8000/v1/chat/completions \"HTTP/1.1 200 OK\"\n",
      "[2025-04-07 17:27:05,222 INFO] HTTP Request: POST http://10.197.17.38:8000/v1/chat/completions \"HTTP/1.1 200 OK\"\n",
      "[2025-04-07 17:27:05,364 INFO] HTTP Request: POST http://10.197.17.38:8000/v1/chat/completions \"HTTP/1.1 200 OK\"\n",
      "[2025-04-07 17:27:05,506 INFO] HTTP Request: POST http://10.197.17.38:8000/v1/chat/completions \"HTTP/1.1 200 OK\"\n",
      "[2025-04-07 17:27:05,840 INFO] HTTP Request: POST http://10.197.17.38:8000/v1/chat/completions \"HTTP/1.1 200 OK\"\n",
      "[2025-04-07 17:27:06,012 INFO] HTTP Request: POST http://10.197.17.38:8000/v1/chat/completions \"HTTP/1.1 200 OK\"\n",
      "[2025-04-07 17:27:06,678 INFO] HTTP Request: POST http://10.197.17.38:8000/v1/chat/completions \"HTTP/1.1 200 OK\"\n",
      "[2025-04-07 17:27:06,823 INFO] HTTP Request: POST http://10.197.17.38:8000/v1/chat/completions \"HTTP/1.1 200 OK\"\n",
      "[2025-04-07 17:27:06,965 INFO] HTTP Request: POST http://10.197.17.38:8000/v1/chat/completions \"HTTP/1.1 200 OK\"\n",
      "[2025-04-07 17:27:07,108 INFO] HTTP Request: POST http://10.197.17.38:8000/v1/chat/completions \"HTTP/1.1 200 OK\"\n",
      "[2025-04-07 17:27:07,250 INFO] HTTP Request: POST http://10.197.17.38:8000/v1/chat/completions \"HTTP/1.1 200 OK\"\n"
     ]
    }
   ],
   "source": [
    "path: RagPath = corag_agent.sample_path(\n",
    "        query=ex['query'], \n",
    "        task_desc=ex['task_desc'],\n",
    "        max_path_length=6,\n",
    "        temperature=0., \n",
    "        max_tokens=64\n",
    "    )"
   ]
  },
  {
   "cell_type": "code",
   "execution_count": 90,
   "metadata": {},
   "outputs": [],
   "source": [
    "best_path, root_node = path"
   ]
  },
  {
   "cell_type": "code",
   "execution_count": 91,
   "metadata": {},
   "outputs": [
    {
     "data": {
      "text/plain": [
       "'Were Scott Derrickson and Ed Wood of the same nationality?'"
      ]
     },
     "execution_count": 91,
     "metadata": {},
     "output_type": "execute_result"
    }
   ],
   "source": [
    "root_node.path.query"
   ]
  },
  {
   "cell_type": "code",
   "execution_count": 92,
   "metadata": {},
   "outputs": [
    {
     "data": {
      "text/plain": [
       "['Was Ed Wood born in the United States?',\n",
       " 'What was the nationality of Ed Wood?']"
      ]
     },
     "execution_count": 92,
     "metadata": {},
     "output_type": "execute_result"
    }
   ],
   "source": [
    "subqueries = [c.path.past_subqueries[-1] for c in root_node.children]\n",
    "subqueries"
   ]
  },
  {
   "cell_type": "code",
   "execution_count": 93,
   "metadata": {},
   "outputs": [],
   "source": [
    "documents: List[str] = format_documents_for_final_answer(\n",
    "    args=args,\n",
    "    context_doc_ids=ex['context_doc_ids'],\n",
    "    tokenizer=tokenizer, corpus=corpus,\n",
    "    lock=tokenizer_lock\n",
    ")"
   ]
  },
  {
   "cell_type": "code",
   "execution_count": 94,
   "metadata": {},
   "outputs": [
    {
     "name": "stderr",
     "output_type": "stream",
     "text": [
      "[2025-04-18 14:49:27,937 INFO] HTTP Request: POST http://10.197.17.39:8000/v1/chat/completions \"HTTP/1.1 200 OK\"\n"
     ]
    }
   ],
   "source": [
    "prediction: str = phs_agent.generate_final_answer(\n",
    "        corag_sample=best_path,\n",
    "        task_desc=ex['task_desc'],\n",
    "        documents=documents,\n",
    "        max_message_length=args.max_len,\n",
    "        temperature=0., max_tokens=128\n",
    "    )\n",
    "\n",
    "ex_with_path = copy.deepcopy(ex)\n",
    "ex_with_path['subqueries'] = best_path.past_subqueries\n",
    "ex_with_path['subanswers'] = best_path.past_subanswers\n",
    "ex_with_path['path_doc_ids'] = best_path.past_doc_ids\n",
    "if 'title' in corpus.column_names:\n",
    "    ex_with_path['path_doc_titles'] = [\n",
    "        [corpus[int(doc_id)]['title'] for doc_id in doc_ids] for doc_ids in best_path.past_doc_ids\n",
    "    ]\n",
    "ex_with_path['prediction'] = prediction"
   ]
  },
  {
   "cell_type": "code",
   "execution_count": 95,
   "metadata": {},
   "outputs": [
    {
     "data": {
      "text/plain": [
       "['Were Scott Derrickson and Ed Wood of the same nationality?',\n",
       " 'What was the nationality of Ed Wood?',\n",
       " 'What was the nationality of Scott Derrickson?',\n",
       " 'Is Ed Wood American?',\n",
       " 'Is Ed Wood the same nationality as Scott Derrickson?']"
      ]
     },
     "execution_count": 95,
     "metadata": {},
     "output_type": "execute_result"
    }
   ],
   "source": [
    "ex_with_path['subqueries']"
   ]
  },
  {
   "cell_type": "code",
   "execution_count": 96,
   "metadata": {},
   "outputs": [
    {
     "data": {
      "text/plain": [
       "['Yes', 'American', 'American.', 'Yes', 'Yes']"
      ]
     },
     "execution_count": 96,
     "metadata": {},
     "output_type": "execute_result"
    }
   ],
   "source": [
    "ex_with_path['subanswers']"
   ]
  },
  {
   "cell_type": "markdown",
   "metadata": {},
   "source": [
    "# Metrics"
   ]
  },
  {
   "cell_type": "code",
   "execution_count": 3,
   "metadata": {},
   "outputs": [],
   "source": [
    "from inference.metrics import compute_metrics_dict\n",
    "from inference.qa_utils import *\n",
    "import json\n",
    "from typing import List, Dict"
   ]
  },
  {
   "cell_type": "code",
   "execution_count": 4,
   "metadata": {},
   "outputs": [],
   "source": [
    "def read_jsonl(file_path: str) -> List[Dict]:\n",
    "    \"\"\"\n",
    "    Reads a JSONL (JSON Lines) file and returns a list of dictionaries.\n",
    "\n",
    "    Args:\n",
    "        file_path (str): Path to the JSONL file.\n",
    "\n",
    "    Returns:\n",
    "        List[Dict]: List of dictionaries representing the JSON objects in the file.\n",
    "    \"\"\"\n",
    "    with open(file_path, 'r', encoding='utf-8') as file:\n",
    "        return [json.loads(line) for line in file]"
   ]
  },
  {
   "cell_type": "code",
   "execution_count": 64,
   "metadata": {},
   "outputs": [],
   "source": [
    "preds_phs_list = read_jsonl('tmp/6/preds_phs_hotpotqa_validation.jsonl')\n",
    "preds_tree_search_list = read_jsonl('tmp/6/preds_tree_search_hotpotqa_validation.jsonl')\n",
    "preds_greedy_list = read_jsonl('tmp/6/preds_greedy_hotpotqa_validation.jsonl')[:1000]\n",
    "preds_phs_8_list = read_jsonl('tmp/8/preds_phs_hotpotqa_validation.jsonl')"
   ]
  },
  {
   "cell_type": "code",
   "execution_count": 65,
   "metadata": {},
   "outputs": [],
   "source": [
    "preds_phs = [d['prediction'] for d in preds_phs_list]\n",
    "preds_phs_8 = [d['prediction'] for d in preds_phs_8_list]\n",
    "answers = [d['answers'] for d in preds_phs_list]\n",
    "preds_tree_search = [d['prediction'] for d in preds_tree_search_list]\n",
    "preds_greedy = [d['prediction'] for d in preds_greedy_list]"
   ]
  },
  {
   "cell_type": "code",
   "execution_count": 67,
   "metadata": {},
   "outputs": [],
   "source": [
    "labels = [[normalize_squad(t) for t in u] for u in answers]\n",
    "preds_phs = [normalize_squad(p) for p in preds_phs]\n",
    "preds_phs_8 = [normalize_squad(p) for p in preds_phs_8]\n",
    "preds_tree_search = [normalize_squad(p) for p in preds_tree_search]\n",
    "preds_greedy = [normalize_squad(p) for p in preds_greedy]\n",
    "\n",
    "# Compute metrics\n",
    "em_phs, f1_phs, em_scores_phs, f1_scores_phs = qa_metrics(labels, preds_phs)  # em,f1\n",
    "em_phs_8, f1_phs_8, em_scores_phs_8, f1_scores_phs_8 = qa_metrics(labels, preds_phs_8)  # em,f1\n",
    "em_tree_search, f1_tree_search, em_scores_tree_search, f1_scores_tree_search = qa_metrics(labels, preds_tree_search)  # em,f1\n",
    "em_greedy, f1_greedy, em_scores_greedy, f1_scores_greedy = qa_metrics(labels, preds_greedy)  # em,f1"
   ]
  },
  {
   "cell_type": "code",
   "execution_count": 68,
   "metadata": {},
   "outputs": [
    {
     "data": {
      "text/plain": [
       "(52.0, 52.400000000000006, 51.6, 51.800000000000004)"
      ]
     },
     "execution_count": 68,
     "metadata": {},
     "output_type": "execute_result"
    }
   ],
   "source": [
    "em_phs, em_phs_8, em_tree_search, em_greedy"
   ]
  },
  {
   "cell_type": "code",
   "execution_count": 47,
   "metadata": {},
   "outputs": [
    {
     "name": "stderr",
     "output_type": "stream",
     "text": [
      "[2025-04-10 11:18:16,694 INFO] generated new fontManager\n"
     ]
    }
   ],
   "source": [
    "from sklearn.metrics import confusion_matrix, ConfusionMatrixDisplay\n",
    "import matplotlib.pyplot as plt"
   ]
  },
  {
   "cell_type": "code",
   "execution_count": 69,
   "metadata": {},
   "outputs": [
    {
     "data": {
      "text/plain": [
       "Text(0.5, 0, 'CoRAG Tree Search')"
      ]
     },
     "execution_count": 69,
     "metadata": {},
     "output_type": "execute_result"
    },
    {
     "data": {
      "image/png": "[encoded data removed]",
      "text/plain": [
       "<Figure size 640x480 with 2 Axes>"
      ]
     },
     "metadata": {},
     "output_type": "display_data"
    }
   ],
   "source": [
    "disp = ConfusionMatrixDisplay(confusion_matrix(\n",
    "    [1 if em else 0 for em in em_scores_phs_8],\n",
    "    [1 if em else 0 for em in em_scores_tree_search]\n",
    "), display_labels=['Incorrect', 'Correct'])\n",
    "disp.plot()\n",
    "plt.ylabel('PHS')\n",
    "plt.xlabel('CoRAG Tree Search')"
   ]
  },
  {
   "cell_type": "code",
   "execution_count": 70,
   "metadata": {},
   "outputs": [
    {
     "data": {
      "text/plain": [
       "Text(0.5, 0, 'CoRAG Greedy')"
      ]
     },
     "execution_count": 70,
     "metadata": {},
     "output_type": "execute_result"
    },
    {
     "data": {
      "image/png": "[encoded data removed]",
      "text/plain": [
       "<Figure size 640x480 with 2 Axes>"
      ]
     },
     "metadata": {},
     "output_type": "display_data"
    }
   ],
   "source": [
    "disp = ConfusionMatrixDisplay(confusion_matrix(\n",
    "    [1 if em else 0 for em in em_scores_phs_8],\n",
    "    [1 if em else 0 for em in em_scores_greedy]\n",
    "), display_labels=['Incorrect', 'Correct'])\n",
    "disp.plot()\n",
    "plt.ylabel('PHS')\n",
    "plt.xlabel('CoRAG Greedy')"
   ]
  },
  {
   "cell_type": "code",
   "execution_count": 72,
   "metadata": {},
   "outputs": [
    {
     "data": {
      "text/plain": [
       "Text(0.5, 0, 'PHS (Max Depth 6)')"
      ]
     },
     "execution_count": 72,
     "metadata": {},
     "output_type": "execute_result"
    },
    {
     "data": {
      "image/png": "[encoded data removed]",
      "text/plain": [
       "<Figure size 640x480 with 2 Axes>"
      ]
     },
     "metadata": {},
     "output_type": "display_data"
    }
   ],
   "source": [
    "disp = ConfusionMatrixDisplay(confusion_matrix(\n",
    "    [1 if em else 0 for em in em_scores_phs_8],\n",
    "    [1 if em else 0 for em in em_scores_phs]\n",
    "), display_labels=['Incorrect', 'Correct'])\n",
    "disp.plot()\n",
    "plt.ylabel('PHS (Max Depth 8)')\n",
    "plt.xlabel('PHS (Max Depth 6)')"
   ]
  },
  {
   "cell_type": "markdown",
   "metadata": {},
   "source": [
    "The reason for this is that when PHS does not find a solution that it is confident in, it just samples a path greedily. We should change the logic to instead use the best path of the ones that is has found.\n",
    "\n",
    "We can couple this with the test of removing `is_solution` entirely and instead just exploring a tree of preset size and choosing the best leaf node."
   ]
  }
 ],
 "metadata": {
  "kernelspec": {
   "display_name": "Python 3 (ipykernel)",
   "language": "python",
   "name": "python3"
  },
  "language_info": {
   "codemirror_mode": {
    "name": "ipython",
    "version": 3
   },
   "file_extension": ".py",
   "mimetype": "text/x-python",
   "name": "python",
   "nbconvert_exporter": "python",
   "pygments_lexer": "ipython3",
   "version": "3.11.8"
  }
 },
 "nbformat": 4,
 "nbformat_minor": 2
}
