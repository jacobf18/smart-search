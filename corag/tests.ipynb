{
 "cells": [
  {
   "cell_type": "code",
   "execution_count": 1,
   "metadata": {},
   "outputs": [],
   "source": [
    "import torch"
   ]
  },
  {
   "cell_type": "code",
   "execution_count": 6,
   "metadata": {},
   "outputs": [],
   "source": [
    "import os\n",
    "import copy\n",
    "import json\n",
    "import threading\n",
    "import logging\n",
    "\n",
    "from transformers import HfArgumentParser, AutoTokenizer, PreTrainedTokenizerFast\n",
    "from concurrent.futures import ThreadPoolExecutor\n",
    "from typing import List, Dict\n",
    "from datasets import Dataset, load_dataset\n",
    "\n",
    "import sys\n",
    "sys.path.append('/burg/home/jef2182/smart-search/src/')\n",
    "\n",
    "from config import Arguments\n",
    "from logger_config import logger\n",
    "from data_utils import log_random_samples, load_corpus, format_documents_for_final_answer\n",
    "from vllm_client_local import VllmClient, get_vllm_model_id\n",
    "from utils import save_json_to_file, AtomicCounter\n",
    "from agent import CoRagAgent, RagPath\n",
    "from inference.metrics import compute_metrics_dict"
   ]
  },
  {
   "cell_type": "code",
   "execution_count": null,
   "metadata": {},
   "outputs": [],
   "source": []
  }
 ],
 "metadata": {
  "kernelspec": {
   "display_name": ".venv",
   "language": "python",
   "name": "python3"
  },
  "language_info": {
   "codemirror_mode": {
    "name": "ipython",
    "version": 3
   },
   "file_extension": ".py",
   "mimetype": "text/x-python",
   "name": "python",
   "nbconvert_exporter": "python",
   "pygments_lexer": "ipython3",
   "version": "3.11.8"
  }
 },
 "nbformat": 4,
 "nbformat_minor": 2
}
