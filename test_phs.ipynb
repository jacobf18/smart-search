{
 "cells": [
  {
   "cell_type": "code",
   "execution_count": 4,
   "metadata": {},
   "outputs": [
    {
     "name": "stderr",
     "output_type": "stream",
     "text": [
      "/Users/jfeit/miniforge3/envs/phs/lib/python3.10/site-packages/tqdm/auto.py:21: TqdmWarning: IProgress not found. Please update jupyter and ipywidgets. See https://ipywidgets.readthedocs.io/en/stable/user_install.html\n",
      "  from .autonotebook import tqdm as notebook_tqdm\n"
     ]
    }
   ],
   "source": [
    "# Import standard packages\n",
    "import os\n",
    "import sys\n",
    "import traceback\n",
    "import multiprocessing\n",
    "import numpy as np\n",
    "from tqdm import tqdm\n",
    "from langchain_ollama import ChatOllama\n",
    "from datasets import load_dataset\n",
    "\n",
    "os.environ['KMP_DUPLICATE_LIB_OK'] = 'True'"
   ]
  },
  {
   "cell_type": "code",
   "execution_count": 2,
   "metadata": {},
   "outputs": [],
   "source": [
    "llm = ChatOllama(\n",
    "    model=\"llama3.2\",\n",
    "    temperature=0.5,\n",
    "    n_gpu_layers=-1,\n",
    "    n_threads=multiprocessing.cpu_count() - 1,\n",
    "    verbose=False,\n",
    "    seed=-1 # Random behavior so will not output the same thing always\n",
    ")"
   ]
  },
  {
   "cell_type": "code",
   "execution_count": 37,
   "metadata": {},
   "outputs": [
    {
     "data": {
      "text/plain": [
       "\"['test_dirs/images/dog.avif', 'test_dirs/images/cat.jpg', 'test_dirs/src/create_user.py', 'test_dirs/src/dogs.py', 'test_dirs/src/access_db.py']\""
      ]
     },
     "execution_count": 37,
     "metadata": {},
     "output_type": "execute_result"
    }
   ],
   "source": [
    "def traverse_directory(directory):\n",
    "    for root, _, files in os.walk(directory):\n",
    "        for f in files:\n",
    "            yield os.path.join(root, f)\n",
    "            \n",
    "file_paths = []\n",
    "for f in traverse_directory(\"test_dirs\"):\n",
    "    file_paths.append(f)\n",
    "    \n",
    "str(file_paths)"
   ]
  },
  {
   "cell_type": "code",
   "execution_count": 38,
   "metadata": {},
   "outputs": [
    {
     "data": {
      "text/plain": [
       "\"'test_dirs/images/dog.avif', 'test_dirs/src/dogs.py'\""
      ]
     },
     "execution_count": 38,
     "metadata": {},
     "output_type": "execute_result"
    }
   ],
   "source": [
    "msg = llm.invoke('From the following list of files, which one(s) are most related to dogs? Return only the file paths and nothing else.' + str(file_paths))\n",
    "msg.content"
   ]
  },
  {
   "cell_type": "code",
   "execution_count": null,
   "metadata": {},
   "outputs": [],
   "source": []
  },
  {
   "cell_type": "markdown",
   "metadata": {},
   "source": [
    "### KILT dataset"
   ]
  },
  {
   "cell_type": "code",
   "execution_count": 5,
   "metadata": {},
   "outputs": [
    {
     "name": "stderr",
     "output_type": "stream",
     "text": [
      "Generating train split: 100%|██████████| 87372/87372 [00:00<00:00, 978006.03 examples/s]\n",
      "Generating validation split: 100%|██████████| 2837/2837 [00:00<00:00, 268909.39 examples/s]\n",
      "Generating test split: 100%|██████████| 1444/1444 [00:00<00:00, 350394.85 examples/s]\n"
     ]
    }
   ],
   "source": [
    "ds = load_dataset(\"facebook/kilt_tasks\", \"nq\")"
   ]
  },
  {
   "cell_type": "code",
   "execution_count": 11,
   "metadata": {},
   "outputs": [
    {
     "data": {
      "text/plain": [
       "DatasetDict({\n",
       "    train: Dataset({\n",
       "        features: ['id', 'input', 'meta', 'output'],\n",
       "        num_rows: 87372\n",
       "    })\n",
       "    validation: Dataset({\n",
       "        features: ['id', 'input', 'meta', 'output'],\n",
       "        num_rows: 2837\n",
       "    })\n",
       "    test: Dataset({\n",
       "        features: ['id', 'input', 'meta', 'output'],\n",
       "        num_rows: 1444\n",
       "    })\n",
       "})"
      ]
     },
     "execution_count": 11,
     "metadata": {},
     "output_type": "execute_result"
    }
   ],
   "source": [
    "ds"
   ]
  }
 ],
 "metadata": {
  "kernelspec": {
   "display_name": "phs",
   "language": "python",
   "name": "python3"
  },
  "language_info": {
   "codemirror_mode": {
    "name": "ipython",
    "version": 3
   },
   "file_extension": ".py",
   "mimetype": "text/x-python",
   "name": "python",
   "nbconvert_exporter": "python",
   "pygments_lexer": "ipython3",
   "version": "3.10.8"
  }
 },
 "nbformat": 4,
 "nbformat_minor": 2
}
